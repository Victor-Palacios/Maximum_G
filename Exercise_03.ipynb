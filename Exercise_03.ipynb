{
 "cells": [
  {
   "cell_type": "code",
   "execution_count": 1,
   "metadata": {},
   "outputs": [],
   "source": [
    "import pandas as pd\n",
    "import numpy as np\n",
    "import warnings\n",
    "warnings.filterwarnings('ignore')\n",
    "pd.set_option('display.max_columns', 200) "
   ]
  },
  {
   "cell_type": "code",
   "execution_count": 2,
   "metadata": {},
   "outputs": [],
   "source": [
    "xls = pd.ExcelFile('Excel_Test_(1).xlsx')"
   ]
  },
  {
   "cell_type": "code",
   "execution_count": 3,
   "metadata": {},
   "outputs": [],
   "source": [
    "#xls.sheet_names"
   ]
  },
  {
   "cell_type": "code",
   "execution_count": 4,
   "metadata": {
    "scrolled": false
   },
   "outputs": [],
   "source": [
    "df1 = xls.parse(\"Exercise 3\", skiprows = 3)"
   ]
  },
  {
   "cell_type": "markdown",
   "metadata": {},
   "source": [
    "# Table A Answer"
   ]
  },
  {
   "cell_type": "code",
   "execution_count": 5,
   "metadata": {},
   "outputs": [],
   "source": [
    "def get_salary(employee):\n",
    "    salary = df1[df1[\"Employee\"] == employee][\"Salary\"].values[0]\n",
    "    print(employee + \"'s salary is: $\", salary)"
   ]
  },
  {
   "cell_type": "code",
   "execution_count": 6,
   "metadata": {},
   "outputs": [
    {
     "name": "stdout",
     "output_type": "stream",
     "text": [
      "Employee 8's salary is: $ 32384\n",
      "Employee 5's salary is: $ 84775\n",
      "Employee 47's salary is: $ 61018\n",
      "Employee 28's salary is: $ 122611\n",
      "Employee 31's salary is: $ 81292\n",
      "Employee 9's salary is: $ 119299\n"
     ]
    }
   ],
   "source": [
    "get_salary(\"Employee 8\")\n",
    "get_salary(\"Employee 5\")\n",
    "get_salary(\"Employee 47\")\n",
    "get_salary(\"Employee 28\")\n",
    "get_salary(\"Employee 31\")\n",
    "get_salary(\"Employee 9\")"
   ]
  },
  {
   "cell_type": "markdown",
   "metadata": {},
   "source": [
    "# Table B Answer"
   ]
  },
  {
   "cell_type": "code",
   "execution_count": 7,
   "metadata": {},
   "outputs": [],
   "source": [
    "def get_high_low_salary():\n",
    "    salaries = list(df1[\"Salary\"])\n",
    "    highest_salary_employee = df1[df1[\"Salary\"] == max(salaries)][\"Employee\"].values[0]\n",
    "    lowest_salary_employee = df1[df1[\"Salary\"] == min(salaries)][\"Employee\"].values[0]\n",
    "    \n",
    "    print(\"Highest Salary: $\", max(salaries), \";\", \"Person:\", highest_salary_employee)\n",
    "    print(\"Lowest Salary: $\", min(salaries), \";\", \"Person:\", lowest_salary_employee)"
   ]
  },
  {
   "cell_type": "code",
   "execution_count": 8,
   "metadata": {},
   "outputs": [
    {
     "name": "stdout",
     "output_type": "stream",
     "text": [
      "Highest Salary: $ 147555 ; Person: Employee 35\n",
      "Lowest Salary: $ 30004 ; Person: Employee 13\n"
     ]
    }
   ],
   "source": [
    "get_high_low_salary()"
   ]
  },
  {
   "cell_type": "markdown",
   "metadata": {},
   "source": [
    "# Table C Answer"
   ]
  },
  {
   "cell_type": "code",
   "execution_count": 9,
   "metadata": {},
   "outputs": [],
   "source": [
    "def number_of_people():\n",
    "    my_list = list(df1[\"Salary\"])\n",
    "    associates = sum(1 for _ in my_list if _ < 70000 )\n",
    "    seniors = sum(1 for _ in my_list if 70000 <= _ <= 100000 )\n",
    "    executives = sum(1 for _ in my_list if _ > 100000)\n",
    "    \n",
    "    print(\"associates:\", associates)\n",
    "    print(\"seniors:\", seniors)\n",
    "    print(\"executives:\", executives)"
   ]
  },
  {
   "cell_type": "code",
   "execution_count": 10,
   "metadata": {},
   "outputs": [
    {
     "name": "stdout",
     "output_type": "stream",
     "text": [
      "associates: 19\n",
      "seniors: 11\n",
      "executives: 20\n"
     ]
    }
   ],
   "source": [
    "number_of_people()"
   ]
  },
  {
   "cell_type": "markdown",
   "metadata": {},
   "source": [
    "# Table D Answer"
   ]
  },
  {
   "cell_type": "code",
   "execution_count": 11,
   "metadata": {},
   "outputs": [
    {
     "name": "stdout",
     "output_type": "stream",
     "text": [
      "No. of Employees in Sales : 13\n",
      "No. of Employees in Marketing : 6\n",
      "No. of Employees in Finance : 10\n",
      "No. of Employees in G&A : 10\n",
      "No. of Employees in HR : 3\n",
      "No. of Employees in Production : 8\n",
      "\n",
      "Total Salary in Sales : 1178721\n",
      "Total Salary in Marketing : 558510\n",
      "Total Salary in Finance : 766550\n",
      "Total Salary in G&A : 921959\n",
      "Total Salary in HR : 191553\n",
      "Total Salary in Production : 907903\n",
      "\n",
      "Average Salary in Sales : 90670.84615384616\n",
      "Average Salary in Marketing : 93085.0\n",
      "Average Salary in Finance : 76655.0\n",
      "Average Salary in G&A : 92195.9\n",
      "Average Salary in HR : 63851.0\n",
      "Average Salary in Production : 113487.875\n",
      "\n",
      "Employee with the highest salary in Sales : Employee 36\n",
      "Employee with the highest salary in Marketing : Employee 33\n",
      "Employee with the highest salary in Finance : Employee 23\n",
      "Employee with the highest salary in G&A : Employee 50\n",
      "Employee with the highest salary in HR : Employee 17\n",
      "Employee with the highest salary in Production : Employee 35\n",
      "\n",
      "Employee with the lowest salary in Sales : Employee 24\n",
      "Employee with the lowest salary in Marketing : Employee 43\n",
      "Employee with the lowest salary in Finance : Employee 13\n",
      "Employee with the lowest salary in G&A : Employee 8\n",
      "Employee with the lowest salary in HR : Employee 4\n",
      "Employee with the lowest salary in Production : Employee 45\n",
      "\n",
      "Highest paid Executive in Sales : Employee 36\n",
      "Highest paid Executive in Marketing : Employee 33\n",
      "Highest paid Executive in Finance : Employee 23\n",
      "Highest paid Executive in G&A : Employee 50\n",
      "Highest paid Executive in HR : No Executives\n",
      "Highest paid Executive in Production : Employee 35\n",
      "\n",
      "Highest paid Senior in Sales : Employee 29\n",
      "Highest paid Senior in Marketing : Employee 25\n",
      "Highest paid Senior in Finance : Employee 10\n",
      "Highest paid Senior in G&A : Employee 5\n",
      "Highest paid Senior in HR : Employee 17\n",
      "Highest paid Senior in Production : Employee 49\n",
      "\n",
      "Highest paid Associate in Sales : Employee 1\n",
      "Highest paid Associate in Marketing : Employee 27\n",
      "Highest paid Associate in Finance : Employee 6\n",
      "Highest paid Associate in G&A : Employee 14\n",
      "Highest paid Associate in HR : Employee 47\n",
      "Highest paid Associate in Production : Employee 45\n"
     ]
    }
   ],
   "source": [
    "department_list = [\"Sales\", \"Marketing\", \"Finance\", \"G&A\", \"HR\", \"Production\"]\n",
    "\n",
    "# No. of Employees\n",
    "for _ in department_list:\n",
    "    print(\"No. of Employees in\", _, \":\", \n",
    "         len(df1[(df1.Department == _)][\"Department\"]))\n",
    "\n",
    "print()\n",
    "\n",
    "# Total Salary\n",
    "for _ in department_list:\n",
    "    print(\"Total Salary in\", _, \":\", \n",
    "         sum(df1[(df1.Department == _)][\"Salary\"]))\n",
    "\n",
    "print()\n",
    "\n",
    "# Average Salary\n",
    "for _ in department_list:\n",
    "    print(\"Average Salary in\", _, \":\", \n",
    "         np.mean(df1[(df1.Department == _)][\"Salary\"]))\n",
    "\n",
    "print()\n",
    "\n",
    "# Highest Salary\n",
    "for _ in department_list:\n",
    "    print(\"Employee with the highest salary in\", _, \":\", \n",
    "         list(df1[df1.Salary == df1[(df1.Department == _)][\"Salary\"].max()][\"Employee\"])[0])\n",
    "print()\n",
    "\n",
    "# Lowest Salary\n",
    "for _ in department_list:\n",
    "    print(\"Employee with the lowest salary in\", _, \":\", \n",
    "         list(df1[df1.Salary == df1[(df1.Department == _)][\"Salary\"].min()][\"Employee\"])[0])    \n",
    "\n",
    "print()  \n",
    "\n",
    "# Highest Paid Executive\n",
    "for _ in department_list:\n",
    "    try:\n",
    "        print(\"Highest paid Executive in\", _, \":\", \n",
    "          list(df1[df1.Salary == df1[(df1.Department == _) & (\n",
    "              df1.Salary > 100000)][\"Salary\"].max()][\"Employee\"])[0])\n",
    "    except: \n",
    "        print(\"Highest paid Executive in\", _, \":\",\"No Executives\")\n",
    "\n",
    "print()\n",
    "    \n",
    "# Highest Paid Senior\n",
    "for _ in department_list:\n",
    "    print(\"Highest paid Senior in\", _, \":\", \n",
    "          list(df1[df1.Salary == df1[(df1.Department == _) & (df1.Salary >= 70000) & (\n",
    "              df1.Salary <= 100000)][\"Salary\"].max()][\"Employee\"])[0])\n",
    "\n",
    "print()        \n",
    "        \n",
    "# Highest Paid Associate    \n",
    "for _ in department_list:\n",
    "    print(\"Highest paid Associate in\", _, \":\", \n",
    "          list(df1[df1.Salary == df1[(df1.Department == _) & (\n",
    "              df1.Salary < 70000)][\"Salary\"].max()][\"Employee\"])[0])"
   ]
  }
 ],
 "metadata": {
  "kernelspec": {
   "display_name": "Python 3",
   "language": "python",
   "name": "python3"
  },
  "language_info": {
   "codemirror_mode": {
    "name": "ipython",
    "version": 3
   },
   "file_extension": ".py",
   "mimetype": "text/x-python",
   "name": "python",
   "nbconvert_exporter": "python",
   "pygments_lexer": "ipython3",
   "version": "3.7.3"
  }
 },
 "nbformat": 4,
 "nbformat_minor": 2
}
